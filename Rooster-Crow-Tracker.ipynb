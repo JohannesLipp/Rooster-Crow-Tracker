{
 "cells": [
  {
   "cell_type": "code",
   "execution_count": 1,
   "id": "e0219d2d-4c20-4b74-82a1-6ae816687bd5",
   "metadata": {},
   "outputs": [
    {
     "name": "stderr",
     "output_type": "stream",
     "text": [
      "C:\\Users\\Theissen-Lipp\\AppData\\Local\\Programs\\Python\\Python312\\Lib\\site-packages\\pydub\\utils.py:170: RuntimeWarning: Couldn't find ffmpeg or avconv - defaulting to ffmpeg, but may not work\n",
      "  warn(\"Couldn't find ffmpeg or avconv - defaulting to ffmpeg, but may not work\", RuntimeWarning)\n"
     ]
    },
    {
     "name": "stdout",
     "output_type": "stream",
     "text": [
      "Created demo file '00_demo-recording.wav'\n"
     ]
    }
   ],
   "source": [
    "from pydub import AudioSegment\n",
    "\n",
    "white_noise = AudioSegment.from_wav(\"437287__senorstudy__statosphere-silence-ambiance-air-tone-buzz-noise.wav\")\n",
    "rooster = AudioSegment.from_wav(\"384188__inspectorj__rooster-crowing-a.wav\")\n",
    "church = AudioSegment.from_wav(\"578544__nomiqbomi__church-bell-2.wav\")\n",
    "\n",
    "mixed_audio = white_noise\n",
    "for _ in range(5):\n",
    "    mixed_audio += rooster\n",
    "    mixed_audio += white_noise\n",
    "    mixed_audio += church\n",
    "    mixed_audio += white_noise\n",
    "\n",
    "mixed_audio.export(\"00_demo-recording.wav\", format=\"wav\")\n",
    "print(\"Created demo file '00_demo-recording.wav'\")\n"
   ]
  },
  {
   "cell_type": "code",
   "execution_count": 2,
   "id": "35fb5e9d-3a8f-4db2-8b5b-46b01e6a263e",
   "metadata": {},
   "outputs": [
    {
     "name": "stdout",
     "output_type": "stream",
     "text": [
      "Start: 60250 ms, End: 61850 ms\n",
      "Start: 122700 ms, End: 123750 ms\n",
      "Start: 186600 ms, End: 188200 ms\n",
      "Start: 249050 ms, End: 250150 ms\n",
      "Start: 313000 ms, End: 314600 ms\n",
      "Start: 375400 ms, End: 376500 ms\n",
      "Start: 439350 ms, End: 440950 ms\n",
      "Start: 501800 ms, End: 502850 ms\n",
      "Start: 565700 ms, End: 567350 ms\n",
      "Start: 628150 ms, End: 629250 ms\n"
     ]
    }
   ],
   "source": [
    "import json\n",
    "from pydub import AudioSegment\n",
    "from pydub.silence import detect_nonsilent\n",
    "\n",
    "audio = AudioSegment.from_wav(\"00_demo-recording.wav\")\n",
    "events = detect_nonsilent(audio, min_silence_len=5000, silence_thresh=-30, seek_step=50)\n",
    "\n",
    "for start, end in events:\n",
    "    print(f\"Start: {start} ms, End: {end} ms\")\n",
    "\n",
    "with open(\"01_events.json\", \"w\") as f:\n",
    "    json.dump(events, f, indent=4)\n"
   ]
  },
  {
   "cell_type": "code",
   "execution_count": 3,
   "id": "eef251fd-1b00-4261-8ccd-c8cc598745dd",
   "metadata": {},
   "outputs": [
    {
     "name": "stdout",
     "output_type": "stream",
     "text": [
      "Event 1: Start=60250ms, End=61850ms, Category=1\n",
      "Event 2: Start=122700ms, End=123750ms, Category=0\n",
      "Event 3: Start=186600ms, End=188200ms, Category=1\n",
      "Event 4: Start=249050ms, End=250150ms, Category=0\n",
      "Event 5: Start=313000ms, End=314600ms, Category=1\n",
      "Event 6: Start=375400ms, End=376500ms, Category=0\n",
      "Event 7: Start=439350ms, End=440950ms, Category=1\n",
      "Event 8: Start=501800ms, End=502850ms, Category=0\n",
      "Event 9: Start=565700ms, End=567350ms, Category=1\n",
      "Event 10: Start=628150ms, End=629250ms, Category=0\n"
     ]
    },
    {
     "data": {
      "image/png": "[encoded data removed]",
      "text/plain": [
       "<Figure size 640x480 with 1 Axes>"
      ]
     },
     "metadata": {},
     "output_type": "display_data"
    }
   ],
   "source": [
    "import json\n",
    "\n",
    "import matplotlib.pyplot as plt\n",
    "import numpy as np\n",
    "from pydub import AudioSegment\n",
    "from sklearn.cluster import KMeans\n",
    "\n",
    "with open(\"01_events.json\", \"r\") as f:\n",
    "    events = json.load(f)\n",
    "\n",
    "# Calculate features\n",
    "feature_set = []\n",
    "audio = AudioSegment.from_wav(\"00_demo-recording.wav\")\n",
    "for start, end in events:\n",
    "    segment = audio[start:end]\n",
    "    # Use duration and mean volume as features for the demo\n",
    "    duration = end - start\n",
    "    mean_volume = segment.dBFS\n",
    "    feature_set.append([duration, mean_volume])\n",
    "features = np.array(feature_set)\n",
    "\n",
    "# Clustering (k-means 2)\n",
    "kmeans = KMeans(n_clusters=2).fit(features)\n",
    "\n",
    "# Print categories\n",
    "categories = kmeans.labels_\n",
    "for i, (start, end) in enumerate(events):\n",
    "    print(f\"Event {i + 1}: Start={start}ms, End={end}ms, Category={categories[i]}\")\n",
    "\n",
    "# Visualize the results\n",
    "plt.scatter(features[:, 0], features[:, 1], c=categories, cmap='viridis', marker='o')\n",
    "plt.xlabel('Duration (ms)')\n",
    "plt.ylabel('Mean Volume (dBFS)')\n",
    "plt.title('Event Clustering')\n",
    "plt.show()\n",
    "\n",
    "# Add the detected class to each event\n",
    "classified_events = []\n",
    "for i, (start, end) in enumerate(events):\n",
    "    classified_events.append([int(start), int(end), int(categories[i])])\n",
    "\n",
    "# Export as JSON\n",
    "with open(\"02_classified_events.json\", \"w\") as f:\n",
    "    json.dump(classified_events, f, indent=4)\n"
   ]
  },
  {
   "cell_type": "code",
   "execution_count": 4,
   "id": "f2315e31-96f6-4e68-89ae-ead0e3c2c954",
   "metadata": {},
   "outputs": [],
   "source": [
    "import json\n",
    "\n",
    "# Load the manual classification\n",
    "with open(\"03_manual-labels.json\", \"r\") as f:\n",
    "    label_map = json.load(f)\n",
    "\n",
    "# Load the classified events\n",
    "with open(\"02_classified_events.json\", \"r\") as f:\n",
    "    classified_events = json.load(f)\n",
    "\n",
    "# Filter events for rooster crow\n",
    "rooster_events = [\n",
    "    [event[0], event[1]]  # Skip the detected class 1\n",
    "    for event in classified_events if label_map[str(event[2])] == label_map[\"1\"]\n",
    "]\n",
    "\n",
    "# Step 4: Export the filtered rooster events into \"04_rooster-crows.json\"\n",
    "with open(\"04_rooster-crows.json\", \"w\") as f:\n",
    "    json.dump(rooster_events, f, indent=4)\n"
   ]
  },
  {
   "cell_type": "code",
   "execution_count": 5,
   "id": "e212b309-04dd-4107-9540-5cc5278001d6",
   "metadata": {},
   "outputs": [
    {
     "name": "stdout",
     "output_type": "stream",
     "text": [
      "pygame 2.6.1 (SDL 2.28.4, Python 3.12.4)\n",
      "Hello from the pygame community. https://www.pygame.org/contribute.html\n",
      "Snippet 1 saved as 05_snippet-01.wav\n",
      "Snippet 2 saved as 05_snippet-02.wav\n",
      "Snippet 3 saved as 05_snippet-03.wav\n",
      "Snippet 4 saved as 05_snippet-04.wav\n",
      "Snippet 5 saved as 05_snippet-05.wav\n"
     ]
    }
   ],
   "source": [
    "import json\n",
    "\n",
    "import pygame\n",
    "from pydub import AudioSegment\n",
    "\n",
    "pygame.mixer.init()\n",
    "\n",
    "# Load rooster crow events\n",
    "with open(\"04_rooster-crows.json\", \"r\") as f:\n",
    "    rooster_events = json.load(f)\n",
    "\n",
    "# Load recording\n",
    "recording = AudioSegment.from_wav(\"00_demo-recording.wav\")\n",
    "\n",
    "# Store each snippet as WAV file\n",
    "for idx, event in enumerate(rooster_events, 1):  # Start numbering from 1\n",
    "    start_ms, end_ms = event[0], event[1]\n",
    "\n",
    "    # Extract the snippet (from start to end)\n",
    "    snippet = recording[start_ms:end_ms]\n",
    "\n",
    "    # Generate the output filename\n",
    "    output_filename = f\"05_snippet-{idx:02d}.wav\"\n",
    "\n",
    "    # Export the snippet to the output file\n",
    "    snippet.export(output_filename, format=\"wav\")\n",
    "\n",
    "    print(f\"Snippet {idx} saved as {output_filename}\")\n"
   ]
  },
  {
   "cell_type": "code",
   "execution_count": 6,
   "id": "fed54988-70a0-43a0-8ec7-089da20afa18",
   "metadata": {},
   "outputs": [
    {
     "name": "stdin",
     "output_type": "stream",
     "text": [
      "Press Enter to play rooster crow: 05_snippet-01.wav \n",
      "Press Enter to play rooster crow: 05_snippet-02.wav \n",
      "Press Enter to play rooster crow: 05_snippet-03.wav \n",
      "Press Enter to play rooster crow: 05_snippet-04.wav \n",
      "Press Enter to play rooster crow: 05_snippet-05.wav \n"
     ]
    }
   ],
   "source": [
    "import os\n",
    "\n",
    "import pygame\n",
    "\n",
    "pygame.mixer.init()\n",
    "\n",
    "snippet_files = [f for f in os.listdir(\"./\") if f.startswith(\"05_snippet\") and f.endswith(\".wav\")]\n",
    "snippet_files.sort()\n",
    "\n",
    "for idx, snippet_file in enumerate(snippet_files, 1):\n",
    "    input(f\"Press Enter to play rooster crow: {snippet_file}\")\n",
    "    pygame.mixer.music.load(snippet_file)\n",
    "    pygame.mixer.music.play()\n",
    "\n",
    "    while pygame.mixer.music.get_busy():\n",
    "        pygame.time.Clock().tick(10)\n"
   ]
  },
  {
   "cell_type": "code",
   "execution_count": null,
   "id": "0e4998c2-14f8-42cc-ac2e-8f59bc1f9fb2",
   "metadata": {},
   "outputs": [],
   "source": []
  }
 ],
 "metadata": {
  "kernelspec": {
   "display_name": "Python 3 (ipykernel)",
   "language": "python",
   "name": "python3"
  },
  "language_info": {
   "codemirror_mode": {
    "name": "ipython",
    "version": 3
   },
   "file_extension": ".py",
   "mimetype": "text/x-python",
   "name": "python",
   "nbconvert_exporter": "python",
   "pygments_lexer": "ipython3",
   "version": "3.12.4"
  }
 },
 "nbformat": 4,
 "nbformat_minor": 5
}
